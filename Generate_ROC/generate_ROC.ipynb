{
 "cells": [
  {
   "cell_type": "code",
   "execution_count": 199,
   "metadata": {
    "collapsed": true
   },
   "outputs": [],
   "source": [
    "import numpy as np\n",
    "import matplotlib.pyplot as plt\n",
    "import scipy.io as sio"
   ]
  },
  {
   "cell_type": "code",
   "execution_count": 161,
   "metadata": {
    "collapsed": true
   },
   "outputs": [],
   "source": [
    "def load_file(filename):\n",
    "    return np.loadtxt(filename)"
   ]
  },
  {
   "cell_type": "code",
   "execution_count": 200,
   "metadata": {
    "collapsed": true
   },
   "outputs": [],
   "source": [
    "def extract_scores_labels(file):\n",
    "    scores = file[: , : 3]\n",
    "    predictdLabels = file[:, 3].reshape(file.shape[0], 1)\n",
    "    actualLabels = file[:, 4].reshape(file.shape[0], 1)\n",
    "    return (scores, predictdLabels, actualLabels)"
   ]
  },
  {
   "cell_type": "code",
   "execution_count": 201,
   "metadata": {
    "collapsed": true
   },
   "outputs": [],
   "source": [
    "def min_max_normalize(X):\n",
    "    return (X-min(X))/(max(X)-min(X))\n",
    "\n",
    "def mean_var_normalize(X):\n",
    "    return (X-np.mean(X))/np.var(X)"
   ]
  },
  {
   "cell_type": "code",
   "execution_count": 202,
   "metadata": {},
   "outputs": [],
   "source": [
    "def do_normalization(scores):\n",
    "    normalized_scores = scores\n",
    "    for i in range(scores.shape[1]):\n",
    "        normalized_scores[:, i] = min_max_normalize(scores[:, i])\n",
    "    return normalized_scores"
   ]
  },
  {
   "cell_type": "code",
   "execution_count": 203,
   "metadata": {},
   "outputs": [],
   "source": [
    "# ROC Curve\n",
    "\n",
    "def roc(no_of_test_points, no_of_classes, actualValues, score ):\n",
    "\n",
    "    #no_of_test_points = test_data.shape[0]\n",
    "    #no_of_classes = 3\n",
    "    \n",
    "    TPR = []\n",
    "    FPR = []\n",
    "    FNR = []\n",
    "    t = []\n",
    "\n",
    "    for threshold in np.arange(0, 1, 0.0001):\n",
    "        t.append(threshold)\n",
    "        TP = 0\n",
    "        FP = 0\n",
    "        FN = 0\n",
    "        TN = 0\n",
    "        for i in range(0, no_of_test_points):\n",
    "            for j in range(0, no_of_classes):\n",
    "                if actualValues[i] == j+1:\n",
    "                    if score[i][j] >= threshold:  \n",
    "                        TP = TP+1\n",
    "                    elif score[i][j] < threshold:\n",
    "                        FN = FN+1\n",
    "                else:\n",
    "                    if score[i][j] >= threshold:\n",
    "                        FP = FP+1\n",
    "                    elif score[i][j] < threshold:\n",
    "                        TN = TN+1\n",
    "        tpr = TP / (TP + FN)  \n",
    "        fpr = FP / (FP + TN)\n",
    "        fnr = FN / (TP + FN)\n",
    "        TPR.append(tpr)\n",
    "        FPR.append(fpr)\n",
    "        FNR.append(fnr)\n",
    "        #roc_auc.append(auc(fpr, tpr))\n",
    "    return (FPR, TPR, FNR)\n",
    "\n",
    "\n",
    "    \n",
    "#def rocPlot(FPR1, TPR1, FPR2, TPR2, FPR3, TPR3, FPR4, TPR4, FPR5, TPR5, FPR6, TPR6):\n",
    "def rocPlot(FPR1, TPR1, FPR2, TPR2, FPR3, TPR3, FPR4, TPR4):\n",
    "    plt.figure()\n",
    "    lw = 2 #linewidth\n",
    "    \n",
    "    plt.plot([0, 1], [0, 1], color='navy', lw=lw, linestyle='--')\n",
    "    plt.plot(FPR1, TPR1, color='darkorange', lw=lw, label='K = 16 states = 6')\n",
    "    plt.plot(FPR2, TPR2, color='blue', lw=lw, label='K = 16 states = 4')\n",
    "    plt.plot(FPR3, TPR3, color='cyan', lw=lw, label='K = 10 states = 6')\n",
    "    plt.plot(FPR4, TPR4, color='red', lw=lw, label='K = 10 states = 4')\n",
    "    #plt.plot(FPR5, TPR5, color='black', lw=lw, label='K = 6 states = 6')\n",
    "    #plt.plot(FPR6, TPR6, color='yellow', lw=lw, label='K = 6 states = 4')\n",
    "    \n",
    "    plt.xlim([0.0, 1.0])\n",
    "    plt.ylim([0.0, 1.00])\n",
    "    plt.xlabel('False Positive Rate')\n",
    "    plt.ylabel('True Positive Rate')\n",
    "    plt.grid()\n",
    "    plt.legend(loc=\"lower right\")\n",
    "    plt.title('ROC Curve Isolated Digits')\n",
    "    plt.show()\n",
    "    \n",
    "    \n",
    "from matplotlib import pyplot as plt\n",
    "import matplotlib\n",
    "#def DETCurve(fps,fns):\n",
    "#def DETCurve(FPR1, FNR1, FPR2, FNR2, FPR3, FNR3, FPR4, FNR4, FPR5, FNR5, FPR6, FNR6):\n",
    "def DETCurve(FPR1, FNR1, FPR2, FNR2, FPR3, FNR3, FPR4, FNR4):\n",
    "    \"\"\"\n",
    "    Given false positive and false negative rates, produce a DET Curve.\n",
    "    The false positive rate is assumed to be increasing while the false\n",
    "    negative rate is assumed to be decreasing.\n",
    "    \"\"\"\n",
    "    lw = 2 #linewidth\n",
    "    axis_min = min(FPR1[0],FNR1[-1])\n",
    "    fig,ax = plt.subplots()\n",
    "    \n",
    "    plt.plot(FNR1, FPR1, color='darkorange', lw=lw, label='K = 16 states = 6')\n",
    "    plt.plot(FPR2, FNR2, color='blue', lw=lw, label='K = 16 states = 4')\n",
    "    plt.plot(FPR3, FNR3, color='cyan', lw=lw, label='K = 10 states = 6')\n",
    "    plt.plot(FPR4, FNR4, color='red', lw=lw, label='K = 10 states = 4')\n",
    "    #plt.plot(FPR5, FNR5, color='black', lw=lw, label='K = 6 states = 6')\n",
    "    #plt.plot(FPR6, FNR6, color='yellow', lw=lw, label='K = 6 states = 4')\n",
    "    \n",
    "    plt.yscale('log')\n",
    "    plt.xscale('log')\n",
    "    #ticks_to_use = [0.001,0.002,0.005,0.01,0.02,0.05,0.1,0.2,0.5,1,2,5,10,20,50]\n",
    "    ticks_to_use = [0.01,0.02,0.05,0.1,0.2,0.5,1,2]\n",
    "    ax.get_xaxis().set_major_formatter(matplotlib.ticker.ScalarFormatter())\n",
    "    ax.get_yaxis().set_major_formatter(matplotlib.ticker.ScalarFormatter())\n",
    "    ax.set_xticks(ticks_to_use)\n",
    "    ax.set_yticks(ticks_to_use)\n",
    "    #plt.axis([0.01,80,0.01,50])\n",
    "    plt.axis([0.01,10,0.01,10])\n",
    "    plt.xlabel('False Positive Rate')\n",
    "    plt.ylabel('False Negative Rate')\n",
    "    plt.grid()\n",
    "    plt.legend(loc=\"upper right\")\n",
    "    plt.title('DET for Isolated Digits')\n",
    "    plt.show()"
   ]
  },
  {
   "cell_type": "code",
   "execution_count": 204,
   "metadata": {
    "collapsed": true
   },
   "outputs": [],
   "source": [
    "file1 = load_file('./16_6')\n",
    "file2 = load_file('./16_4')\n",
    "file3 = load_file('./10_6')\n",
    "file4 = load_file('./10_4')\n",
    "#file5 = load_file('./6_4')\n",
    "#file6 = load_file('./6_6')"
   ]
  },
  {
   "cell_type": "code",
   "execution_count": 205,
   "metadata": {},
   "outputs": [],
   "source": [
    "(scores1, prdictedLabels1, actualLabels1) = extract_scores_labels(file1)\n",
    "(scores2, prdictedLabels2, actualLabels2) = extract_scores_labels(file2)\n",
    "(scores3, prdictedLabels3, actualLabels3) = extract_scores_labels(file3)\n",
    "(scores4, prdictedLabels4, actualLabels4) = extract_scores_labels(file4)\n",
    "#(scores5, prdictedLabels5, actualLabels5) = extract_scores_labels(file5)\n",
    "#(scores6, prdictedLabels6, actualLabels6) = extract_scores_labels(file6)"
   ]
  },
  {
   "cell_type": "code",
   "execution_count": 206,
   "metadata": {
    "collapsed": true
   },
   "outputs": [],
   "source": [
    "normalized_scores1 = do_normalization(scores1)\n",
    "normalized_scores2 = do_normalization(scores2)\n",
    "normalized_scores3 = do_normalization(scores3)\n",
    "normalized_scores4 = do_normalization(scores4)\n",
    "normalized_scores5 = do_normalization(scores5)\n",
    "#normalized_scores6 = do_normalization(scores6)"
   ]
  },
  {
   "cell_type": "code",
   "execution_count": 207,
   "metadata": {},
   "outputs": [
    {
     "data": {
      "image/png": "[encoded data removed]",
      "text/plain": [
       "<matplotlib.figure.Figure at 0x9863b51b38>"
      ]
     },
     "metadata": {},
     "output_type": "display_data"
    },
    {
     "data": {
      "image/png": "[encoded data removed]",
      "text/plain": [
       "<matplotlib.figure.Figure at 0x9863bee9e8>"
      ]
     },
     "metadata": {},
     "output_type": "display_data"
    }
   ],
   "source": [
    "# roc(no_of_test_points, no_of_classes, actualValues, score )\n",
    "(fpr1, tpr1, fnr1) = roc(scores1.shape[0], 3, actualLabels1, normalized_scores1 )\n",
    "(fpr2, tpr2, fnr2) = roc(scores2.shape[0], 3, actualLabels2, normalized_scores2 )\n",
    "(fpr3, tpr3, fnr3) = roc(scores3.shape[0], 3, actualLabels3, normalized_scores3 )\n",
    "(fpr4, tpr4, fnr4) = roc(scores4.shape[0], 3, actualLabels4, normalized_scores4 )\n",
    "#(fpr5, tpr5, fnr5) = roc(scores5.shape[0], 3, actualLabels5, normalized_scores5 )\n",
    "#(fpr6, tpr6, fnr6) = roc(scores6.shape[0], 3, actualLabels6, normalized_scores6 )\n",
    "\n",
    "#rocPlot(fpr1, tpr1, fpr2, tpr2, fpr3, tpr3, fpr4, tpr4, fpr5, tpr5, fpr6, tpr6)\n",
    "rocPlot(fpr1, tpr1, fpr2, tpr2, fpr3, tpr3, fpr4, tpr4)\n",
    "\n",
    "DETCurve(fpr1, tpr1, fpr2, tpr2, fpr3, tpr3, fpr4, tpr4)"
   ]
  },
  {
   "cell_type": "code",
   "execution_count": 208,
   "metadata": {},
   "outputs": [],
   "source": [
    "# no_of_models = 3\n",
    "def get_target_nonTarget(scores):\n",
    "    s = scores\n",
    "    target = []\n",
    "    non_target = []\n",
    "    for i in range(s.shape[0]):\n",
    "        if s[i][0] > s[i][1] and s[i][0] > s[i][2] :\n",
    "            target.append(s[i][0])\n",
    "            non_target.append(s[i][1])\n",
    "            non_target.append(s[i][2])\n",
    "\n",
    "        elif s[i][1] > s[i][0] and s[i][1] > s[i][2] :\n",
    "            target.append(s[i][1])\n",
    "            non_target.append(s[i][0])\n",
    "            non_target.append(s[i][2])\n",
    "\n",
    "        else:\n",
    "            target.append(s[i][2])\n",
    "            non_target.append(s[i][1])\n",
    "            non_target.append(s[i][0])\n",
    "    return (target, non_target)"
   ]
  },
  {
   "cell_type": "code",
   "execution_count": 209,
   "metadata": {
    "collapsed": true
   },
   "outputs": [],
   "source": [
    "(tar1, non_tar1) = get_target_nonTarget(scores1)\n",
    "(tar2, non_tar2) = get_target_nonTarget(scores2)\n",
    "(tar3, non_tar3) = get_target_nonTarget(scores3)"
   ]
  },
  {
   "cell_type": "code",
   "execution_count": 226,
   "metadata": {
    "collapsed": true
   },
   "outputs": [],
   "source": [
    "def store_in_file(X):\n",
    "    a = np.asarray(X).reshape(1, len(X))\n",
    "    #filename = 'target1.csv'\n",
    "    filename = 'nontarget1.csv'\n",
    "    a.tofile(filename, sep=' ',format='%2.10f')"
   ]
  },
  {
   "cell_type": "code",
   "execution_count": 227,
   "metadata": {},
   "outputs": [],
   "source": [
    "store_in_file(non_tar1)"
   ]
  },
  {
   "cell_type": "code",
   "execution_count": null,
   "metadata": {
    "collapsed": true
   },
   "outputs": [],
   "source": []
  }
 ],
 "metadata": {
  "kernelspec": {
   "display_name": "Python 3",
   "language": "python",
   "name": "python3"
  },
  "language_info": {
   "codemirror_mode": {
    "name": "ipython",
    "version": 3
   },
   "file_extension": ".py",
   "mimetype": "text/x-python",
   "name": "python",
   "nbconvert_exporter": "python",
   "pygments_lexer": "ipython3",
   "version": "3.6.1"
  }
 },
 "nbformat": 4,
 "nbformat_minor": 2
}
