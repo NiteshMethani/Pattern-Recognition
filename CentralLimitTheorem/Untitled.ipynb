{
 "cells": [
  {
   "cell_type": "code",
   "execution_count": 2,
   "metadata": {},
   "outputs": [
    {
     "data": {
      "image/png": "[encoded data removed]",
      "text/plain": [
       "<matplotlib.figure.Figure at 0xa5a98b5fd0>"
      ]
     },
     "metadata": {},
     "output_type": "display_data"
    }
   ],
   "source": [
    "import numpy as np\n",
    "from scipy import stats\n",
    "xk = np.arange(7)\n",
    "pk = (0.1, 0.2, 0.3, 0.1, 0.1, 0.0, 0.2)\n",
    "custm = stats.rv_discrete(name='custm', values=(xk, pk))\n",
    "\n",
    "import matplotlib.pyplot as plt\n",
    "fig, ax = plt.subplots(1, 1)\n",
    "ax.plot(xk, custm.pmf(xk), 'ro', ms=12, mec='r')\n",
    "ax.vlines(xk, 0, custm.pmf(xk), colors='r', lw=4)\n",
    "plt.show()"
   ]
  },
  {
   "cell_type": "code",
   "execution_count": 3,
   "metadata": {
    "collapsed": true
   },
   "outputs": [],
   "source": [
    "R = custm.rvs(size=100)"
   ]
  },
  {
   "cell_type": "code",
   "execution_count": 4,
   "metadata": {},
   "outputs": [
    {
     "data": {
      "text/plain": [
       "array([1, 1, 2, 4, 2, 6, 6, 0, 3, 4, 1, 1, 2, 0, 6, 6, 6, 3, 2, 1, 6, 0, 6,\n",
       "       1, 4, 2, 6, 1, 0, 0, 3, 6, 1, 2, 6, 2, 1, 3, 4, 1, 0, 2, 6, 0, 6, 2,\n",
       "       6, 1, 0, 6, 3, 2, 3, 1, 2, 3, 1, 6, 2, 2, 1, 4, 2, 1, 0, 6, 1, 6, 1,\n",
       "       2, 6, 1, 0, 2, 6, 2, 1, 2, 6, 2, 2, 6, 1, 2, 1, 2, 6, 2, 4, 2, 6, 0,\n",
       "       1, 0, 2, 2, 6, 3, 2, 3])"
      ]
     },
     "execution_count": 4,
     "metadata": {},
     "output_type": "execute_result"
    }
   ],
   "source": [
    "R"
   ]
  },
  {
   "cell_type": "code",
   "execution_count": 10,
   "metadata": {},
   "outputs": [],
   "source": [
    "from scipy.stats import rv_discrete\n",
    "\n",
    "class poisson_gen(rv_discrete):\n",
    "    \"Poisson distribution\"\n",
    "    def _pmf(self, k, mu):\n",
    "        return np.exp(-mu) * mu**k / np.math.factorial(k)"
   ]
  },
  {
   "cell_type": "code",
   "execution_count": 18,
   "metadata": {},
   "outputs": [
    {
     "data": {
      "text/plain": [
       "0.0022699964881242427"
      ]
     },
     "execution_count": 18,
     "metadata": {},
     "output_type": "execute_result"
    }
   ],
   "source": [
    "poisson = poisson_gen(name=\"poisson\")\n",
    "poisson.pmf(2, 10)"
   ]
  },
  {
   "cell_type": "code",
   "execution_count": 22,
   "metadata": {},
   "outputs": [],
   "source": [
    "#poisson.rvs(5)"
   ]
  },
  {
   "cell_type": "code",
   "execution_count": 15,
   "metadata": {},
   "outputs": [],
   "source": [
    "\"\"\"\n",
    "    Draws a random number from given probability density function.\n",
    "\n",
    "    Parameters\n",
    "    ----------\n",
    "        pdf       -- the function pointer to a probability density function of form P = pdf(x)\n",
    "        interval  -- the resulting random number is restricted to this interval\n",
    "        pdfmax    -- the maximum of the probability density function\n",
    "        integers  -- boolean, indicating if the result is desired as integer\n",
    "        max_iterations -- maximum number of 'tries' to find a combination of random numbers (rand_x, rand_y) located below the function value calc_y = pdf(rand_x).\n",
    "\n",
    "    returns a single random number according the pdf distribution.\n",
    "    \"\"\"\n",
    "def draw_random_number_from_pdf(pdf, interval, pdfmax = 1, integers = False, max_iterations = 10000):\n",
    "    for i in range(max_iterations):\n",
    "        if integers == True:\n",
    "            rand_x = np.random.randint(interval[0], interval[1])\n",
    "        else:\n",
    "            rand_x = (interval[1] - interval[0]) * np.random.random(1) + interval[0] #(b - a) * random_sample() + a\n",
    "\n",
    "        rand_y = pdfmax * np.random.random(1) \n",
    "        calc_y = pdf(rand_x)\n",
    "\n",
    "        if(rand_y <= calc_y ):\n",
    "            return rand_x\n",
    "\n",
    "    raise Exception(\"Could not find a matching random number within pdf in \" + max_iterations + \" iterations.\")"
   ]
  },
  {
   "cell_type": "code",
   "execution_count": null,
   "metadata": {
    "collapsed": true
   },
   "outputs": [],
   "source": []
  }
 ],
 "metadata": {
  "kernelspec": {
   "display_name": "Python 3",
   "language": "python",
   "name": "python3"
  },
  "language_info": {
   "codemirror_mode": {
    "name": "ipython",
    "version": 3
   },
   "file_extension": ".py",
   "mimetype": "text/x-python",
   "name": "python",
   "nbconvert_exporter": "python",
   "pygments_lexer": "ipython3",
   "version": "3.6.1"
  }
 },
 "nbformat": 4,
 "nbformat_minor": 2
}
