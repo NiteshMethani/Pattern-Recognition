{
 "cells": [
  {
   "cell_type": "code",
   "execution_count": 24,
   "metadata": {
    "collapsed": true
   },
   "outputs": [],
   "source": [
    "import numpy as np\n",
    "import matplotlib.pyplot as plt\n",
    "import seaborn as sns\n",
    "sns.set_palette(\"deep\", desat=.65)"
   ]
  },
  {
   "cell_type": "code",
   "execution_count": 25,
   "metadata": {
    "collapsed": true
   },
   "outputs": [],
   "source": [
    "def poisson_pmf(x , mu):\n",
    "    return np.exp(-mu) * mu**x / np.math.factorial(x)\n",
    "\n",
    "\n",
    "# P(K = k) = 3 / (pi^2 * k^2)\n",
    "def random_pmf(k):\n",
    "    return 3 / (np.square(np.pi) * np.square(k))"
   ]
  },
  {
   "cell_type": "code",
   "execution_count": 26,
   "metadata": {
    "collapsed": true
   },
   "outputs": [],
   "source": [
    "def poisson_cdf(x, mu):\n",
    "    prob = np.zeros(x+1)\n",
    "    for i in range(0, x+1):\n",
    "        prob[i] = poisson_pmf(i, 10)\n",
    "    return np.cumsum(prob)[-1]\n",
    "\n",
    "def random_cdf(k):\n",
    "    prob = np.zeros(k+1)\n",
    "    for i in range(0, k+1):\n",
    "        prob[i] = random_pmf(i)\n",
    "    return np.cumsum(prob)[-1]"
   ]
  },
  {
   "cell_type": "code",
   "execution_count": 54,
   "metadata": {
    "collapsed": true
   },
   "outputs": [],
   "source": [
    "def poisson_inv_cdf(p, mu):\n",
    "    low = 0.0\n",
    "    high = 0.0\n",
    "    for x in range(1, 20):\n",
    "        s = poisson_pmf(x, mu)\n",
    "        high += s\n",
    "        if p>=low and p<=high:\n",
    "            return x\n",
    "        low += s\n",
    "    return np.random.randint(100)\n",
    "\n",
    "\n",
    "def random_inv_cdf(p):\n",
    "    low = 0.0\n",
    "    high = 0.0\n",
    "    for x in range(1, 20):\n",
    "        s = random_pmf(x)\n",
    "        high += s\n",
    "        if p>0.5:\n",
    "            p = p - 0.5\n",
    "            if p>=low and p<=high:\n",
    "                return x\n",
    "            low += s\n",
    "        else:\n",
    "            if p>=low and p<=high:\n",
    "                return (-1 * x)\n",
    "            low += s\n",
    "    return np.random.randint(100)"
   ]
  },
  {
   "cell_type": "code",
   "execution_count": 42,
   "metadata": {
    "collapsed": true
   },
   "outputs": [],
   "source": [
    "def generate_poisson_samples(no_of_samples):\n",
    "    X = []\n",
    "    U = np.random.uniform(0, 1, no_of_samples)\n",
    "    for u in U:\n",
    "        X.append(poisson_inv_cdf(u, 10))\n",
    "    return X\n",
    "\n",
    "def generate_randomDist_samples(no_of_samples):\n",
    "    X = []\n",
    "    U = np.random.uniform(0, 1, no_of_samples)\n",
    "    for u in U:\n",
    "        X.append(random_inv_cdf(u))\n",
    "    return X\n",
    "\n",
    "# def generate_randomDist_samples(no_of_samples):\n",
    "#     X = []\n",
    "#     U = np.random.uniform(0, 1, no_of_samples)\n",
    "#     for u in U:\n",
    "#         if u < 0.5:\n",
    "#             X.append(random_inv_cdf(u) * -1)\n",
    "#         X.append(random_inv_cdf(u))\n",
    "#     return X"
   ]
  },
  {
   "cell_type": "code",
   "execution_count": 18,
   "metadata": {
    "collapsed": true
   },
   "outputs": [],
   "source": [
    "# sample_mean = []\n",
    "# no_of_times = 1000\n",
    "# no_of_samples = 5\n",
    "# for i in range(no_of_times):\n",
    "#     sample_mean.append(np.mean(generate_poisson_samples(no_of_samples)))\n",
    "\n",
    "# mu = np.mean(sample_mean)\n",
    "# var = np.var(sample_mean)\n",
    "# bins = np.linspace(0, 15, 100)\n",
    "# plt.hist(sample_mean, bins, color = 'cyan', alpha=0.5)\n",
    "# plt.xlabel('Observations')\n",
    "# plt.ylabel('Frequency')\n",
    "# plt.title('Histogram for sample_size = %d' %  (no_of_samples))\n",
    "# plt.text(0, 50, r'$\\mu=%f,\\ \\sigma=%f$' % (mu, var))\n",
    "# plt.grid(True)\n",
    "# plt.show()"
   ]
  },
  {
   "cell_type": "code",
   "execution_count": 19,
   "metadata": {
    "collapsed": true
   },
   "outputs": [],
   "source": [
    "# for i in range(10):\n",
    "\n",
    "#     sample_mean = []\n",
    "#     no_of_times = 1000\n",
    "#     no_of_samples = 5\n",
    "#     for i in range(no_of_times):\n",
    "#         sample_mean.append(np.mean(generate_randomDist_samples(no_of_samples)))\n",
    "\n",
    "#     mu = np.mean(sample_mean)\n",
    "#     var = np.var(sample_mean)\n",
    "#     bins = np.linspace(0, 20, 100)\n",
    "#     plt.hist(sample_mean, bins, color = 'cyan', alpha=0.5)\n",
    "#     plt.xlabel('Observations')\n",
    "#     plt.ylabel('Frequency')\n",
    "#     plt.title('Histogram for sample_size = %d' %  (no_of_samples))\n",
    "#     plt.text(0, 5, r'$\\mu=%f,\\ \\sigma=%f$' % (mu, var))\n",
    "#     plt.grid(True)\n",
    "#     plt.show()"
   ]
  },
  {
   "cell_type": "code",
   "execution_count": 51,
   "metadata": {
    "collapsed": true
   },
   "outputs": [],
   "source": [
    "# [9.99, 10.01]\n",
    "# [9.9, 10.1]\n",
    "\n",
    "def experiment(no_of_times, no_of_samples, distribution):\n",
    "    sample_mean = []\n",
    "    counter1 = 0\n",
    "    counter2 = 0\n",
    "    confidence_interval_1 = [9.99, 10.01]\n",
    "    confidence_interval_2 = [9.8, 10.1]\n",
    "    \n",
    "    \n",
    "    if distribution == 'Poisson' or distribution == 'poisson':\n",
    "        for i in range(no_of_times):\n",
    "            sample_mean.append(np.mean(generate_poisson_samples(no_of_samples)))\n",
    "    elif distribution == 'Nitesh' or distribution == 'nitesh':\n",
    "        for i in range(no_of_times):\n",
    "            sample_mean.append(np.mean(generate_randomDist_samples(no_of_samples)))\n",
    "    \n",
    "    mu = np.mean(sample_mean)\n",
    "    std = np.std(sample_mean)\n",
    "    \n",
    "    for each in sample_mean:\n",
    "        if each >= confidence_interval_1[0] and each <= confidence_interval_1[1]:\n",
    "            counter1 += 1\n",
    "        if each >= confidence_interval_2[0] and each <= confidence_interval_2[1]:\n",
    "            counter2 += 1\n",
    "    \n",
    "    if distribution == 'Poisson' or distribution == 'poisson':\n",
    "        plt.text(12, 90, r'$\\mu=%f,\\ \\sigma=%f$' % (mu, std))\n",
    "        #bins = np.linspace(6, 15, 100)\n",
    "    elif distribution == 'Nitesh' or distribution == 'nitesh':\n",
    "        plt.text(0, 5, r'$\\mu=%f,\\ \\sigma=%f$' % (mu, std))\n",
    "        #bins = np.linspace(0, 15, 100)\n",
    "    #plt.hist(sample_mean, bins, color = 'cyan', alpha=0.5)\n",
    "    plt.hist(sample_mean, alpha=0.5)\n",
    "    plt.xlabel('Observations')\n",
    "    plt.ylabel('Frequency')\n",
    "    plt.title('Histogram for sample_size = %d' %  (no_of_samples))\n",
    "    plt.grid(True)\n",
    "    plt.show()\n",
    "    \n",
    "    return (mu, std, counter1, counter2)"
   ]
  },
  {
   "cell_type": "code",
   "execution_count": 53,
   "metadata": {},
   "outputs": [
    {
     "data": {
      "image/png": "[encoded data removed]",
      "text/plain": [
       "<matplotlib.figure.Figure at 0x21197b0048>"
      ]
     },
     "metadata": {},
     "output_type": "display_data"
    },
    {
     "name": "stdout",
     "output_type": "stream",
     "text": [
      "Confidence Interval for N = 500 is [10.085007 , 10.117874]\n",
      "Sample Mean lies in the interval [9.99, 10.01] 476 times for sample_size, N = 500\n",
      "Sample Mean lies in the interval [9.9, 10.1] 4807 times for sample_size, N = 500\n"
     ]
    }
   ],
   "source": [
    "n_samples = 500\n",
    "(mu, std, counter1, counter2) = experiment(10000, n_samples, 'Poisson')\n",
    "upper_limit = mu + 1.96 * (std / np.sqrt(n_samples))\n",
    "lower_limit = mu - 1.96 * (std / np.sqrt(n_samples))\n",
    "print('Confidence Interval for N = %d is [%f , %f]' % (n_samples, lower_limit, upper_limit))\n",
    "print('Sample Mean lies in the interval [9.99, 10.01] %d times for sample_size, N = %d' % (counter1, n_samples))\n",
    "print('Sample Mean lies in the interval [9.9, 10.1] %d times for sample_size, N = %d' % (counter2, n_samples))"
   ]
  },
  {
   "cell_type": "code",
   "execution_count": null,
   "metadata": {
    "collapsed": true
   },
   "outputs": [],
   "source": []
  },
  {
   "cell_type": "code",
   "execution_count": null,
   "metadata": {
    "collapsed": true
   },
   "outputs": [],
   "source": []
  }
 ],
 "metadata": {
  "kernelspec": {
   "display_name": "Python 3",
   "language": "python",
   "name": "python3"
  },
  "language_info": {
   "codemirror_mode": {
    "name": "ipython",
    "version": 3
   },
   "file_extension": ".py",
   "mimetype": "text/x-python",
   "name": "python",
   "nbconvert_exporter": "python",
   "pygments_lexer": "ipython3",
   "version": "3.6.1"
  }
 },
 "nbformat": 4,
 "nbformat_minor": 2
}
